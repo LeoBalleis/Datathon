{
 "cells": [
  {
   "attachments": {},
   "cell_type": "markdown",
   "metadata": {},
   "source": [
    "Importo las librerías a utilizar"
   ]
  },
  {
   "cell_type": "code",
   "execution_count": 22,
   "metadata": {},
   "outputs": [],
   "source": [
    "import pandas as pd\n",
    "from sklearn.decomposition import PCA\n",
    "import seaborn as sns\n",
    "import matplotlib.pyplot as plt\n",
    "from sklearn.preprocessing import StandardScaler\n",
    "from sklearn.model_selection import train_test_split\n",
    "from sklearn.linear_model import LogisticRegression\n",
    "from sklearn.metrics import confusion_matrix\n",
    "from sklearn.metrics import precision_score\n",
    "from sklearn.metrics import accuracy_score\n",
    "from sklearn.metrics import recall_score\n",
    "from sklearn.metrics import f1_score\n",
    "from sklearn.metrics import roc_auc_score\n"
   ]
  },
  {
   "attachments": {},
   "cell_type": "markdown",
   "metadata": {},
   "source": [
    "Abro los datasets  para realizar un análisis exploratorio general de mis datos."
   ]
  },
  {
   "cell_type": "code",
   "execution_count": 23,
   "metadata": {},
   "outputs": [],
   "source": [
    "hospitalizaciones_test=pd.read_csv(\"./datasets/hospitalizaciones_test.csv\")\n",
    "hospitalizaciones_train=pd.read_csv(\"./datasets/hospitalizaciones_train.csv\")"
   ]
  },
  {
   "cell_type": "code",
   "execution_count": 24,
   "metadata": {},
   "outputs": [
    {
     "data": {
      "text/html": [
       "<div>\n",
       "<style scoped>\n",
       "    .dataframe tbody tr th:only-of-type {\n",
       "        vertical-align: middle;\n",
       "    }\n",
       "\n",
       "    .dataframe tbody tr th {\n",
       "        vertical-align: top;\n",
       "    }\n",
       "\n",
       "    .dataframe thead th {\n",
       "        text-align: right;\n",
       "    }\n",
       "</style>\n",
       "<table border=\"1\" class=\"dataframe\">\n",
       "  <thead>\n",
       "    <tr style=\"text-align: right;\">\n",
       "      <th></th>\n",
       "      <th>Available Extra Rooms in Hospital</th>\n",
       "      <th>Department</th>\n",
       "      <th>Ward_Facility_Code</th>\n",
       "      <th>doctor_name</th>\n",
       "      <th>staff_available</th>\n",
       "      <th>patientid</th>\n",
       "      <th>Age</th>\n",
       "      <th>gender</th>\n",
       "      <th>Type of Admission</th>\n",
       "      <th>Severity of Illness</th>\n",
       "      <th>health_conditions</th>\n",
       "      <th>Visitors with Patient</th>\n",
       "      <th>Insurance</th>\n",
       "      <th>Admission_Deposit</th>\n",
       "    </tr>\n",
       "  </thead>\n",
       "  <tbody>\n",
       "    <tr>\n",
       "      <th>0</th>\n",
       "      <td>3</td>\n",
       "      <td>gynecology</td>\n",
       "      <td>F</td>\n",
       "      <td>Dr Olivia</td>\n",
       "      <td>10</td>\n",
       "      <td>2858</td>\n",
       "      <td>21-30</td>\n",
       "      <td>Female</td>\n",
       "      <td>Trauma</td>\n",
       "      <td>Moderate</td>\n",
       "      <td>Other</td>\n",
       "      <td>2</td>\n",
       "      <td>No</td>\n",
       "      <td>4749.640225</td>\n",
       "    </tr>\n",
       "    <tr>\n",
       "      <th>1</th>\n",
       "      <td>2</td>\n",
       "      <td>TB &amp; Chest disease</td>\n",
       "      <td>E</td>\n",
       "      <td>Dr John</td>\n",
       "      <td>4</td>\n",
       "      <td>65657</td>\n",
       "      <td>51-60</td>\n",
       "      <td>Female</td>\n",
       "      <td>Trauma</td>\n",
       "      <td>Moderate</td>\n",
       "      <td>Asthama</td>\n",
       "      <td>2</td>\n",
       "      <td>Yes</td>\n",
       "      <td>4122.261324</td>\n",
       "    </tr>\n",
       "    <tr>\n",
       "      <th>2</th>\n",
       "      <td>2</td>\n",
       "      <td>radiotherapy</td>\n",
       "      <td>E</td>\n",
       "      <td>Dr John</td>\n",
       "      <td>7</td>\n",
       "      <td>45598</td>\n",
       "      <td>51-60</td>\n",
       "      <td>Other</td>\n",
       "      <td>Trauma</td>\n",
       "      <td>Moderate</td>\n",
       "      <td>None</td>\n",
       "      <td>3</td>\n",
       "      <td>No</td>\n",
       "      <td>5459.067882</td>\n",
       "    </tr>\n",
       "    <tr>\n",
       "      <th>3</th>\n",
       "      <td>2</td>\n",
       "      <td>gynecology</td>\n",
       "      <td>F</td>\n",
       "      <td>Dr Olivia</td>\n",
       "      <td>1</td>\n",
       "      <td>31132</td>\n",
       "      <td>21-30</td>\n",
       "      <td>Female</td>\n",
       "      <td>Trauma</td>\n",
       "      <td>Moderate</td>\n",
       "      <td>None</td>\n",
       "      <td>2</td>\n",
       "      <td>Yes</td>\n",
       "      <td>3987.033318</td>\n",
       "    </tr>\n",
       "    <tr>\n",
       "      <th>4</th>\n",
       "      <td>2</td>\n",
       "      <td>anesthesia</td>\n",
       "      <td>A</td>\n",
       "      <td>Dr John</td>\n",
       "      <td>7</td>\n",
       "      <td>125021</td>\n",
       "      <td>51-60</td>\n",
       "      <td>Female</td>\n",
       "      <td>Trauma</td>\n",
       "      <td>Extreme</td>\n",
       "      <td>Diabetes</td>\n",
       "      <td>2</td>\n",
       "      <td>No</td>\n",
       "      <td>4770.789695</td>\n",
       "    </tr>\n",
       "  </tbody>\n",
       "</table>\n",
       "</div>"
      ],
      "text/plain": [
       "   Available Extra Rooms in Hospital          Department Ward_Facility_Code  \\\n",
       "0                                  3          gynecology                  F   \n",
       "1                                  2  TB & Chest disease                  E   \n",
       "2                                  2        radiotherapy                  E   \n",
       "3                                  2          gynecology                  F   \n",
       "4                                  2          anesthesia                  A   \n",
       "\n",
       "  doctor_name  staff_available  patientid    Age  gender Type of Admission  \\\n",
       "0   Dr Olivia               10       2858  21-30  Female            Trauma   \n",
       "1     Dr John                4      65657  51-60  Female            Trauma   \n",
       "2     Dr John                7      45598  51-60   Other            Trauma   \n",
       "3   Dr Olivia                1      31132  21-30  Female            Trauma   \n",
       "4     Dr John                7     125021  51-60  Female            Trauma   \n",
       "\n",
       "  Severity of Illness health_conditions  Visitors with Patient Insurance  \\\n",
       "0            Moderate             Other                      2        No   \n",
       "1            Moderate           Asthama                      2       Yes   \n",
       "2            Moderate              None                      3        No   \n",
       "3            Moderate              None                      2       Yes   \n",
       "4             Extreme          Diabetes                      2        No   \n",
       "\n",
       "   Admission_Deposit  \n",
       "0        4749.640225  \n",
       "1        4122.261324  \n",
       "2        5459.067882  \n",
       "3        3987.033318  \n",
       "4        4770.789695  "
      ]
     },
     "execution_count": 24,
     "metadata": {},
     "output_type": "execute_result"
    }
   ],
   "source": [
    "hospitalizaciones_test.head(5)"
   ]
  },
  {
   "cell_type": "code",
   "execution_count": 25,
   "metadata": {},
   "outputs": [
    {
     "data": {
      "text/html": [
       "<div>\n",
       "<style scoped>\n",
       "    .dataframe tbody tr th:only-of-type {\n",
       "        vertical-align: middle;\n",
       "    }\n",
       "\n",
       "    .dataframe tbody tr th {\n",
       "        vertical-align: top;\n",
       "    }\n",
       "\n",
       "    .dataframe thead th {\n",
       "        text-align: right;\n",
       "    }\n",
       "</style>\n",
       "<table border=\"1\" class=\"dataframe\">\n",
       "  <thead>\n",
       "    <tr style=\"text-align: right;\">\n",
       "      <th></th>\n",
       "      <th>Available Extra Rooms in Hospital</th>\n",
       "      <th>Department</th>\n",
       "      <th>Ward_Facility_Code</th>\n",
       "      <th>doctor_name</th>\n",
       "      <th>staff_available</th>\n",
       "      <th>patientid</th>\n",
       "      <th>Age</th>\n",
       "      <th>gender</th>\n",
       "      <th>Type of Admission</th>\n",
       "      <th>Severity of Illness</th>\n",
       "      <th>health_conditions</th>\n",
       "      <th>Visitors with Patient</th>\n",
       "      <th>Insurance</th>\n",
       "      <th>Admission_Deposit</th>\n",
       "      <th>Stay (in days)</th>\n",
       "    </tr>\n",
       "  </thead>\n",
       "  <tbody>\n",
       "    <tr>\n",
       "      <th>0</th>\n",
       "      <td>4</td>\n",
       "      <td>gynecology</td>\n",
       "      <td>D</td>\n",
       "      <td>Dr Sophia</td>\n",
       "      <td>0</td>\n",
       "      <td>33070</td>\n",
       "      <td>41-50</td>\n",
       "      <td>Female</td>\n",
       "      <td>Trauma</td>\n",
       "      <td>Extreme</td>\n",
       "      <td>Diabetes</td>\n",
       "      <td>4</td>\n",
       "      <td>Yes</td>\n",
       "      <td>2966.408696</td>\n",
       "      <td>8</td>\n",
       "    </tr>\n",
       "    <tr>\n",
       "      <th>1</th>\n",
       "      <td>4</td>\n",
       "      <td>gynecology</td>\n",
       "      <td>B</td>\n",
       "      <td>Dr Sophia</td>\n",
       "      <td>2</td>\n",
       "      <td>34808</td>\n",
       "      <td>31-40</td>\n",
       "      <td>Female</td>\n",
       "      <td>Trauma</td>\n",
       "      <td>Minor</td>\n",
       "      <td>Heart disease</td>\n",
       "      <td>2</td>\n",
       "      <td>No</td>\n",
       "      <td>3554.835677</td>\n",
       "      <td>9</td>\n",
       "    </tr>\n",
       "    <tr>\n",
       "      <th>2</th>\n",
       "      <td>2</td>\n",
       "      <td>gynecology</td>\n",
       "      <td>B</td>\n",
       "      <td>Dr Sophia</td>\n",
       "      <td>8</td>\n",
       "      <td>44577</td>\n",
       "      <td>21-30</td>\n",
       "      <td>Female</td>\n",
       "      <td>Trauma</td>\n",
       "      <td>Extreme</td>\n",
       "      <td>Diabetes</td>\n",
       "      <td>2</td>\n",
       "      <td>Yes</td>\n",
       "      <td>5624.733654</td>\n",
       "      <td>7</td>\n",
       "    </tr>\n",
       "    <tr>\n",
       "      <th>3</th>\n",
       "      <td>4</td>\n",
       "      <td>gynecology</td>\n",
       "      <td>D</td>\n",
       "      <td>Dr Olivia</td>\n",
       "      <td>7</td>\n",
       "      <td>3695</td>\n",
       "      <td>31-40</td>\n",
       "      <td>Female</td>\n",
       "      <td>Urgent</td>\n",
       "      <td>Moderate</td>\n",
       "      <td>None</td>\n",
       "      <td>4</td>\n",
       "      <td>No</td>\n",
       "      <td>4814.149231</td>\n",
       "      <td>8</td>\n",
       "    </tr>\n",
       "    <tr>\n",
       "      <th>4</th>\n",
       "      <td>2</td>\n",
       "      <td>anesthesia</td>\n",
       "      <td>E</td>\n",
       "      <td>Dr Mark</td>\n",
       "      <td>10</td>\n",
       "      <td>108956</td>\n",
       "      <td>71-80</td>\n",
       "      <td>Male</td>\n",
       "      <td>Trauma</td>\n",
       "      <td>Moderate</td>\n",
       "      <td>Diabetes</td>\n",
       "      <td>2</td>\n",
       "      <td>No</td>\n",
       "      <td>5169.269637</td>\n",
       "      <td>34</td>\n",
       "    </tr>\n",
       "  </tbody>\n",
       "</table>\n",
       "</div>"
      ],
      "text/plain": [
       "   Available Extra Rooms in Hospital  Department Ward_Facility_Code  \\\n",
       "0                                  4  gynecology                  D   \n",
       "1                                  4  gynecology                  B   \n",
       "2                                  2  gynecology                  B   \n",
       "3                                  4  gynecology                  D   \n",
       "4                                  2  anesthesia                  E   \n",
       "\n",
       "  doctor_name  staff_available  patientid    Age  gender Type of Admission  \\\n",
       "0   Dr Sophia                0      33070  41-50  Female            Trauma   \n",
       "1   Dr Sophia                2      34808  31-40  Female            Trauma   \n",
       "2   Dr Sophia                8      44577  21-30  Female            Trauma   \n",
       "3   Dr Olivia                7       3695  31-40  Female            Urgent   \n",
       "4     Dr Mark               10     108956  71-80    Male            Trauma   \n",
       "\n",
       "  Severity of Illness health_conditions  Visitors with Patient Insurance  \\\n",
       "0             Extreme          Diabetes                      4       Yes   \n",
       "1               Minor     Heart disease                      2        No   \n",
       "2             Extreme          Diabetes                      2       Yes   \n",
       "3            Moderate              None                      4        No   \n",
       "4            Moderate          Diabetes                      2        No   \n",
       "\n",
       "   Admission_Deposit  Stay (in days)  \n",
       "0        2966.408696               8  \n",
       "1        3554.835677               9  \n",
       "2        5624.733654               7  \n",
       "3        4814.149231               8  \n",
       "4        5169.269637              34  "
      ]
     },
     "execution_count": 25,
     "metadata": {},
     "output_type": "execute_result"
    }
   ],
   "source": [
    "hospitalizaciones_train.head()#El que deben usar para entrenar el modelo"
   ]
  },
  {
   "attachments": {},
   "cell_type": "markdown",
   "metadata": {},
   "source": [
    "Pre-Procesamiento de Datos:Paso de variables categóricas a dummies. Hacemos el encoding"
   ]
  },
  {
   "cell_type": "code",
   "execution_count": 26,
   "metadata": {},
   "outputs": [
    {
     "data": {
      "text/plain": [
       "4723.419239008682"
      ]
     },
     "execution_count": 26,
     "metadata": {},
     "output_type": "execute_result"
    }
   ],
   "source": [
    "hospitalizaciones_train['Admission_Deposit'].mean()# Quiero ver cual es la media de depositos de admision para poder normalizarla"
   ]
  },
  {
   "cell_type": "code",
   "execution_count": 27,
   "metadata": {},
   "outputs": [
    {
     "data": {
      "text/plain": [
       "10104.72639"
      ]
     },
     "execution_count": 27,
     "metadata": {},
     "output_type": "execute_result"
    }
   ],
   "source": [
    "hospitalizaciones_train['Admission_Deposit'].max()"
   ]
  },
  {
   "cell_type": "code",
   "execution_count": 28,
   "metadata": {},
   "outputs": [
    {
     "data": {
      "text/plain": [
       "'\\n$<5000 =1\\n$>=5000 =2\\n'"
      ]
     },
     "execution_count": 28,
     "metadata": {},
     "output_type": "execute_result"
    }
   ],
   "source": [
    "#Utilizo 5000 como punto de quiebre porque esta cerca de la media \n",
    "hospitalizaciones_train.loc[hospitalizaciones_train['Admission_Deposit'] <5000 , 'Admission_Deposit']= 1\n",
    "hospitalizaciones_train.loc[hospitalizaciones_train['Admission_Deposit'] >=5000 , 'Admission_Deposit']= 2\n",
    "\n",
    "\n",
    "hospitalizaciones_test.loc[hospitalizaciones_test['Admission_Deposit'] <5000 , 'Admission_Deposit']= 1\n",
    "hospitalizaciones_test.loc[hospitalizaciones_test['Admission_Deposit'] >=5000 , 'Admission_Deposit']= 2\n",
    "\n",
    "'''\n",
    "$<5000 =1\n",
    "$>=5000 =2\n",
    "'''"
   ]
  },
  {
   "cell_type": "code",
   "execution_count": 29,
   "metadata": {},
   "outputs": [
    {
     "data": {
      "text/plain": [
       "array(['41-50', '31-40', '21-30', '71-80', '11-20', '51-60', '61-70',\n",
       "       '81-90', '91-100', '0-10'], dtype=object)"
      ]
     },
     "execution_count": 29,
     "metadata": {},
     "output_type": "execute_result"
    }
   ],
   "source": [
    "hospitalizaciones_train['Age'].unique()# quiero ver cuantos valores unicos hay"
   ]
  },
  {
   "cell_type": "code",
   "execution_count": 30,
   "metadata": {},
   "outputs": [
    {
     "data": {
      "text/plain": [
       "\"\\n'0-10':1,\\n'11-20':2,\\n'21-30':3,\\n'31-40':4,\\n'41-50':5,\\n'51-60':6,\\n'61-70':7,\\n'71-80':8,\\n'81-90':9,\\n'91-100':10\\n\""
      ]
     },
     "execution_count": 30,
     "metadata": {},
     "output_type": "execute_result"
    }
   ],
   "source": [
    "hospitalizaciones_test['Age']=hospitalizaciones_test['Age'].replace({'0-10':1,'11-20':2,'21-30':3,'31-40':4,'41-50':5,'51-60':6,'61-70':7,'71-80':8,'81-90':9,'91-100':10 })\n",
    "hospitalizaciones_train['Age']=hospitalizaciones_train['Age'].replace({'0-10':1,'11-20':2,'21-30':3,'31-40':4,'41-50':5,'51-60':6,'61-70':7,'71-80':8,'81-90':9,'91-100':10 })\n",
    "'''\n",
    "'0-10':1,\n",
    "'11-20':2,\n",
    "'21-30':3,\n",
    "'31-40':4,\n",
    "'41-50':5,\n",
    "'51-60':6,\n",
    "'61-70':7,\n",
    "'71-80':8,\n",
    "'81-90':9,\n",
    "'91-100':10\n",
    "'''"
   ]
  },
  {
   "cell_type": "code",
   "execution_count": 31,
   "metadata": {},
   "outputs": [
    {
     "data": {
      "text/plain": [
       "array(['gynecology', 'anesthesia', 'TB & Chest disease', 'radiotherapy',\n",
       "       'surgery'], dtype=object)"
      ]
     },
     "execution_count": 31,
     "metadata": {},
     "output_type": "execute_result"
    }
   ],
   "source": [
    "hospitalizaciones_train['Department'].unique()# quiero ver cuantos valores unicos hay"
   ]
  },
  {
   "cell_type": "code",
   "execution_count": 32,
   "metadata": {},
   "outputs": [
    {
     "data": {
      "text/plain": [
       "\"\\n'gynecology':1\\n'anesthesia':2\\n'TB & Chest disease':3\\n'radiotherapy':4\\n'surgery':5\\n\""
      ]
     },
     "execution_count": 32,
     "metadata": {},
     "output_type": "execute_result"
    }
   ],
   "source": [
    "hospitalizaciones_test['Department']=hospitalizaciones_test['Department'].replace({'gynecology':1,'anesthesia':2,'TB & Chest disease':3,'radiotherapy':4,'surgery':5 })\n",
    "hospitalizaciones_train['Department']=hospitalizaciones_train['Department'].replace({'gynecology':1,'anesthesia':2,'TB & Chest disease':3,'radiotherapy':4,'surgery':5 })\n",
    "'''\n",
    "'gynecology':1\n",
    "'anesthesia':2\n",
    "'TB & Chest disease':3\n",
    "'radiotherapy':4\n",
    "'surgery':5\n",
    "'''"
   ]
  },
  {
   "cell_type": "code",
   "execution_count": 33,
   "metadata": {},
   "outputs": [
    {
     "data": {
      "text/plain": [
       "array(['Diabetes', 'Heart disease', 'None', 'Other', 'Asthama',\n",
       "       'High Blood Pressure'], dtype=object)"
      ]
     },
     "execution_count": 33,
     "metadata": {},
     "output_type": "execute_result"
    }
   ],
   "source": [
    "hospitalizaciones_train['health_conditions'].unique()# quiero ver cuantos valores unicos hay"
   ]
  },
  {
   "cell_type": "code",
   "execution_count": 34,
   "metadata": {},
   "outputs": [
    {
     "data": {
      "text/plain": [
       "\"\\nDiabetes':1,\\n'Heart disease':2,\\n'None':3,\\n'Other':4,\\n'Asthama':5,\\n'High Blood Pressure':6\\n\""
      ]
     },
     "execution_count": 34,
     "metadata": {},
     "output_type": "execute_result"
    }
   ],
   "source": [
    "hospitalizaciones_test['health_conditions']=hospitalizaciones_test['health_conditions'].replace({'Diabetes':1,'Heart disease':2,'None':3,'Other':4,'Asthama':5,'High Blood Pressure':6 })\n",
    "hospitalizaciones_train['health_conditions']=hospitalizaciones_train['health_conditions'].replace({'Diabetes':1,'Heart disease':2,'None':3,'Other':4,'Asthama':5,'High Blood Pressure':6 })\n",
    "'''\n",
    "Diabetes':1,\n",
    "'Heart disease':2,\n",
    "'None':3,\n",
    "'Other':4,\n",
    "'Asthama':5,\n",
    "'High Blood Pressure':6\n",
    "'''\n"
   ]
  },
  {
   "cell_type": "code",
   "execution_count": 35,
   "metadata": {},
   "outputs": [
    {
     "data": {
      "text/plain": [
       "array(['Extreme', 'Minor', 'Moderate'], dtype=object)"
      ]
     },
     "execution_count": 35,
     "metadata": {},
     "output_type": "execute_result"
    }
   ],
   "source": [
    "hospitalizaciones_train['Severity of Illness'].unique()# quiero ver cuantos valores unicos hay"
   ]
  },
  {
   "cell_type": "code",
   "execution_count": 36,
   "metadata": {},
   "outputs": [
    {
     "data": {
      "text/plain": [
       "\"\\n'Extreme':1,\\n'Minor':2,\\n'Moderate':3\\n\""
      ]
     },
     "execution_count": 36,
     "metadata": {},
     "output_type": "execute_result"
    }
   ],
   "source": [
    "hospitalizaciones_test['Severity of Illness']=hospitalizaciones_test['Severity of Illness'].replace({'Extreme':1,'Minor':2,'Moderate':3})\n",
    "hospitalizaciones_train['Severity of Illness']=hospitalizaciones_train['Severity of Illness'].replace({'Extreme':1,'Minor':2,'Moderate':3 })\n",
    "'''\n",
    "'Extreme':1,\n",
    "'Minor':2,\n",
    "'Moderate':3\n",
    "'''\n"
   ]
  },
  {
   "cell_type": "code",
   "execution_count": 37,
   "metadata": {},
   "outputs": [
    {
     "data": {
      "text/plain": [
       "array([ 8,  9,  7, 34, 11, 12, 16,  5, 26, 21, 10,  6, 20, 22, 39, 14, 17,\n",
       "       32, 24, 35, 25, 23, 33, 19, 38, 13, 36, 31, 40, 15, 18, 28, 27, 30,\n",
       "        4, 29, 37, 45, 43, 41, 46, 42, 44, 47, 48,  3, 49, 50, 51],\n",
       "      dtype=int64)"
      ]
     },
     "execution_count": 37,
     "metadata": {},
     "output_type": "execute_result"
    }
   ],
   "source": [
    "hospitalizaciones_train['Stay (in days)'].unique()# quiero ver cuantos valores unicos hay "
   ]
  },
  {
   "attachments": {},
   "cell_type": "markdown",
   "metadata": {},
   "source": [
    "Creo la columna objetivo en base a la columna stay in days 0 para estadías cortas y 1 para estadías largas para mayores a 8 días estadia larga."
   ]
  },
  {
   "cell_type": "code",
   "execution_count": 38,
   "metadata": {},
   "outputs": [],
   "source": [
    "hospitalizaciones_train.loc[hospitalizaciones_train['Stay (in days)'] <= 8 , 'Stay (in days)']= 0\n",
    "hospitalizaciones_train.loc[hospitalizaciones_train['Stay (in days)'] > 8 , 'Stay (in days)']= 1\n",
    "\n",
    "hospitalizaciones_train=hospitalizaciones_train.rename(columns={'Stay (in days)':'pred'})\n",
    "\n",
    "\n",
    "hospitalizaciones_test['pred']=''# agrego una columna a test \n"
   ]
  },
  {
   "attachments": {},
   "cell_type": "markdown",
   "metadata": {},
   "source": [
    "Me deshago de las columnas que no aportan a mi modelo.\n",
    "Para muchas de estas me guie unicamente por logica."
   ]
  },
  {
   "cell_type": "code",
   "execution_count": 39,
   "metadata": {},
   "outputs": [
    {
     "data": {
      "text/plain": [
       "287606"
      ]
     },
     "execution_count": 39,
     "metadata": {},
     "output_type": "execute_result"
    }
   ],
   "source": [
    "#Podria borrar los duplicados pero no tengo suficiente contexto como para hacerlo \n",
    "hospitalizaciones_train['patientid'].duplicated().sum()"
   ]
  },
  {
   "cell_type": "code",
   "execution_count": 40,
   "metadata": {},
   "outputs": [],
   "source": [
    "hospitalizaciones_train.drop(columns=['Ward_Facility_Code','doctor_name','patientid','Type of Admission','Visitors with Patient','Available Extra Rooms in Hospital','Insurance','gender'],inplace=True)\n",
    "hospitalizaciones_test.drop(columns=['Ward_Facility_Code','doctor_name','patientid','Type of Admission','Visitors with Patient','Available Extra Rooms in Hospital','Insurance','gender'],inplace=True)"
   ]
  },
  {
   "attachments": {},
   "cell_type": "markdown",
   "metadata": {},
   "source": [
    "Analiso la relacion entre las Variables "
   ]
  },
  {
   "cell_type": "code",
   "execution_count": 41,
   "metadata": {},
   "outputs": [
    {
     "data": {
      "image/png": "[encoded data removed]",
      "text/plain": [
       "<Figure size 640x480 with 2 Axes>"
      ]
     },
     "metadata": {},
     "output_type": "display_data"
    }
   ],
   "source": [
    "corr = hospitalizaciones_train.corr()# usamos el corr para ver la correlacion entre columnas \n",
    "sns.heatmap(corr, \n",
    "        xticklabels=corr.columns,\n",
    "        yticklabels=corr.columns,\n",
    "        annot=True);"
   ]
  },
  {
   "attachments": {},
   "cell_type": "markdown",
   "metadata": {},
   "source": [
    "Luego de  ver esta informacion puedo precindir de la columna admission_deposit y la de staff_avaiable."
   ]
  },
  {
   "cell_type": "code",
   "execution_count": 42,
   "metadata": {},
   "outputs": [],
   "source": [
    "hospitalizaciones_train.drop(columns=['staff_available','Admission_Deposit'],inplace=True)\n",
    "hospitalizaciones_test.drop(columns=['staff_available','Admission_Deposit'],inplace=True)"
   ]
  },
  {
   "attachments": {},
   "cell_type": "markdown",
   "metadata": {},
   "source": [
    "Comienzo un análisis general de mis datasets para saber cuántos datos faltantes (None/NaN/null) y datos repetidos se encuentran"
   ]
  },
  {
   "cell_type": "code",
   "execution_count": 43,
   "metadata": {},
   "outputs": [
    {
     "data": {
      "text/html": [
       "<div>\n",
       "<style scoped>\n",
       "    .dataframe tbody tr th:only-of-type {\n",
       "        vertical-align: middle;\n",
       "    }\n",
       "\n",
       "    .dataframe tbody tr th {\n",
       "        vertical-align: top;\n",
       "    }\n",
       "\n",
       "    .dataframe thead th {\n",
       "        text-align: right;\n",
       "    }\n",
       "</style>\n",
       "<table border=\"1\" class=\"dataframe\">\n",
       "  <thead>\n",
       "    <tr style=\"text-align: right;\">\n",
       "      <th></th>\n",
       "      <th>Department</th>\n",
       "      <th>Age</th>\n",
       "      <th>Severity of Illness</th>\n",
       "      <th>health_conditions</th>\n",
       "      <th>pred</th>\n",
       "    </tr>\n",
       "  </thead>\n",
       "  <tbody>\n",
       "    <tr>\n",
       "      <th>count</th>\n",
       "      <td>410000.000000</td>\n",
       "      <td>410000.000000</td>\n",
       "      <td>410000.000000</td>\n",
       "      <td>410000.000000</td>\n",
       "      <td>410000.000000</td>\n",
       "    </tr>\n",
       "    <tr>\n",
       "      <th>mean</th>\n",
       "      <td>1.726751</td>\n",
       "      <td>4.126151</td>\n",
       "      <td>2.389110</td>\n",
       "      <td>3.567861</td>\n",
       "      <td>0.622966</td>\n",
       "    </tr>\n",
       "    <tr>\n",
       "      <th>std</th>\n",
       "      <td>1.193354</td>\n",
       "      <td>1.628469</td>\n",
       "      <td>0.765135</td>\n",
       "      <td>1.546556</td>\n",
       "      <td>0.484644</td>\n",
       "    </tr>\n",
       "    <tr>\n",
       "      <th>min</th>\n",
       "      <td>1.000000</td>\n",
       "      <td>1.000000</td>\n",
       "      <td>1.000000</td>\n",
       "      <td>1.000000</td>\n",
       "      <td>0.000000</td>\n",
       "    </tr>\n",
       "    <tr>\n",
       "      <th>25%</th>\n",
       "      <td>1.000000</td>\n",
       "      <td>3.000000</td>\n",
       "      <td>2.000000</td>\n",
       "      <td>3.000000</td>\n",
       "      <td>0.000000</td>\n",
       "    </tr>\n",
       "    <tr>\n",
       "      <th>50%</th>\n",
       "      <td>1.000000</td>\n",
       "      <td>4.000000</td>\n",
       "      <td>3.000000</td>\n",
       "      <td>3.000000</td>\n",
       "      <td>1.000000</td>\n",
       "    </tr>\n",
       "    <tr>\n",
       "      <th>75%</th>\n",
       "      <td>2.000000</td>\n",
       "      <td>5.000000</td>\n",
       "      <td>3.000000</td>\n",
       "      <td>5.000000</td>\n",
       "      <td>1.000000</td>\n",
       "    </tr>\n",
       "    <tr>\n",
       "      <th>max</th>\n",
       "      <td>5.000000</td>\n",
       "      <td>10.000000</td>\n",
       "      <td>3.000000</td>\n",
       "      <td>6.000000</td>\n",
       "      <td>1.000000</td>\n",
       "    </tr>\n",
       "  </tbody>\n",
       "</table>\n",
       "</div>"
      ],
      "text/plain": [
       "          Department            Age  Severity of Illness  health_conditions  \\\n",
       "count  410000.000000  410000.000000        410000.000000      410000.000000   \n",
       "mean        1.726751       4.126151             2.389110           3.567861   \n",
       "std         1.193354       1.628469             0.765135           1.546556   \n",
       "min         1.000000       1.000000             1.000000           1.000000   \n",
       "25%         1.000000       3.000000             2.000000           3.000000   \n",
       "50%         1.000000       4.000000             3.000000           3.000000   \n",
       "75%         2.000000       5.000000             3.000000           5.000000   \n",
       "max         5.000000      10.000000             3.000000           6.000000   \n",
       "\n",
       "                pred  \n",
       "count  410000.000000  \n",
       "mean        0.622966  \n",
       "std         0.484644  \n",
       "min         0.000000  \n",
       "25%         0.000000  \n",
       "50%         1.000000  \n",
       "75%         1.000000  \n",
       "max         1.000000  "
      ]
     },
     "execution_count": 43,
     "metadata": {},
     "output_type": "execute_result"
    }
   ],
   "source": [
    "hospitalizaciones_train.describe()"
   ]
  },
  {
   "cell_type": "code",
   "execution_count": 44,
   "metadata": {},
   "outputs": [
    {
     "name": "stdout",
     "output_type": "stream",
     "text": [
      "<class 'pandas.core.frame.DataFrame'>\n",
      "RangeIndex: 410000 entries, 0 to 409999\n",
      "Data columns (total 5 columns):\n",
      " #   Column               Non-Null Count   Dtype\n",
      "---  ------               --------------   -----\n",
      " 0   Department           410000 non-null  int64\n",
      " 1   Age                  410000 non-null  int64\n",
      " 2   Severity of Illness  410000 non-null  int64\n",
      " 3   health_conditions    410000 non-null  int64\n",
      " 4   pred                 410000 non-null  int64\n",
      "dtypes: int64(5)\n",
      "memory usage: 15.6 MB\n"
     ]
    }
   ],
   "source": [
    "hospitalizaciones_train.info()"
   ]
  },
  {
   "cell_type": "code",
   "execution_count": 45,
   "metadata": {},
   "outputs": [
    {
     "name": "stdout",
     "output_type": "stream",
     "text": [
      "<class 'pandas.core.frame.DataFrame'>\n",
      "RangeIndex: 90000 entries, 0 to 89999\n",
      "Data columns (total 5 columns):\n",
      " #   Column               Non-Null Count  Dtype \n",
      "---  ------               --------------  ----- \n",
      " 0   Department           90000 non-null  int64 \n",
      " 1   Age                  90000 non-null  int64 \n",
      " 2   Severity of Illness  90000 non-null  int64 \n",
      " 3   health_conditions    90000 non-null  int64 \n",
      " 4   pred                 90000 non-null  object\n",
      "dtypes: int64(4), object(1)\n",
      "memory usage: 3.4+ MB\n"
     ]
    }
   ],
   "source": [
    "hospitalizaciones_test.info()"
   ]
  },
  {
   "attachments": {},
   "cell_type": "markdown",
   "metadata": {},
   "source": [
    "LOS DATASETS ESTAN COMPLETOS ASI QUE NO HAY QUE COMPLETAR CON DATOS "
   ]
  },
  {
   "attachments": {},
   "cell_type": "markdown",
   "metadata": {},
   "source": [
    "El dataset parece estar limpio por lo que podemos proseguir "
   ]
  },
  {
   "attachments": {},
   "cell_type": "markdown",
   "metadata": {},
   "source": [
    "Entonces los dataset quedarian asi "
   ]
  },
  {
   "cell_type": "code",
   "execution_count": 46,
   "metadata": {},
   "outputs": [
    {
     "data": {
      "text/html": [
       "<div>\n",
       "<style scoped>\n",
       "    .dataframe tbody tr th:only-of-type {\n",
       "        vertical-align: middle;\n",
       "    }\n",
       "\n",
       "    .dataframe tbody tr th {\n",
       "        vertical-align: top;\n",
       "    }\n",
       "\n",
       "    .dataframe thead th {\n",
       "        text-align: right;\n",
       "    }\n",
       "</style>\n",
       "<table border=\"1\" class=\"dataframe\">\n",
       "  <thead>\n",
       "    <tr style=\"text-align: right;\">\n",
       "      <th></th>\n",
       "      <th>Department</th>\n",
       "      <th>Age</th>\n",
       "      <th>Severity of Illness</th>\n",
       "      <th>health_conditions</th>\n",
       "      <th>pred</th>\n",
       "    </tr>\n",
       "  </thead>\n",
       "  <tbody>\n",
       "    <tr>\n",
       "      <th>0</th>\n",
       "      <td>1</td>\n",
       "      <td>5</td>\n",
       "      <td>1</td>\n",
       "      <td>1</td>\n",
       "      <td>0</td>\n",
       "    </tr>\n",
       "    <tr>\n",
       "      <th>1</th>\n",
       "      <td>1</td>\n",
       "      <td>4</td>\n",
       "      <td>2</td>\n",
       "      <td>2</td>\n",
       "      <td>1</td>\n",
       "    </tr>\n",
       "    <tr>\n",
       "      <th>2</th>\n",
       "      <td>1</td>\n",
       "      <td>3</td>\n",
       "      <td>1</td>\n",
       "      <td>1</td>\n",
       "      <td>0</td>\n",
       "    </tr>\n",
       "    <tr>\n",
       "      <th>3</th>\n",
       "      <td>1</td>\n",
       "      <td>4</td>\n",
       "      <td>3</td>\n",
       "      <td>3</td>\n",
       "      <td>0</td>\n",
       "    </tr>\n",
       "    <tr>\n",
       "      <th>4</th>\n",
       "      <td>2</td>\n",
       "      <td>8</td>\n",
       "      <td>3</td>\n",
       "      <td>1</td>\n",
       "      <td>1</td>\n",
       "    </tr>\n",
       "    <tr>\n",
       "      <th>...</th>\n",
       "      <td>...</td>\n",
       "      <td>...</td>\n",
       "      <td>...</td>\n",
       "      <td>...</td>\n",
       "      <td>...</td>\n",
       "    </tr>\n",
       "    <tr>\n",
       "      <th>409995</th>\n",
       "      <td>1</td>\n",
       "      <td>4</td>\n",
       "      <td>2</td>\n",
       "      <td>5</td>\n",
       "      <td>0</td>\n",
       "    </tr>\n",
       "    <tr>\n",
       "      <th>409996</th>\n",
       "      <td>1</td>\n",
       "      <td>3</td>\n",
       "      <td>1</td>\n",
       "      <td>4</td>\n",
       "      <td>1</td>\n",
       "    </tr>\n",
       "    <tr>\n",
       "      <th>409997</th>\n",
       "      <td>1</td>\n",
       "      <td>3</td>\n",
       "      <td>2</td>\n",
       "      <td>5</td>\n",
       "      <td>1</td>\n",
       "    </tr>\n",
       "    <tr>\n",
       "      <th>409998</th>\n",
       "      <td>1</td>\n",
       "      <td>3</td>\n",
       "      <td>3</td>\n",
       "      <td>4</td>\n",
       "      <td>1</td>\n",
       "    </tr>\n",
       "    <tr>\n",
       "      <th>409999</th>\n",
       "      <td>1</td>\n",
       "      <td>5</td>\n",
       "      <td>2</td>\n",
       "      <td>4</td>\n",
       "      <td>0</td>\n",
       "    </tr>\n",
       "  </tbody>\n",
       "</table>\n",
       "<p>410000 rows × 5 columns</p>\n",
       "</div>"
      ],
      "text/plain": [
       "        Department  Age  Severity of Illness  health_conditions  pred\n",
       "0                1    5                    1                  1     0\n",
       "1                1    4                    2                  2     1\n",
       "2                1    3                    1                  1     0\n",
       "3                1    4                    3                  3     0\n",
       "4                2    8                    3                  1     1\n",
       "...            ...  ...                  ...                ...   ...\n",
       "409995           1    4                    2                  5     0\n",
       "409996           1    3                    1                  4     1\n",
       "409997           1    3                    2                  5     1\n",
       "409998           1    3                    3                  4     1\n",
       "409999           1    5                    2                  4     0\n",
       "\n",
       "[410000 rows x 5 columns]"
      ]
     },
     "execution_count": 46,
     "metadata": {},
     "output_type": "execute_result"
    }
   ],
   "source": [
    "hospitalizaciones_train"
   ]
  },
  {
   "cell_type": "code",
   "execution_count": 47,
   "metadata": {},
   "outputs": [
    {
     "data": {
      "text/html": [
       "<div>\n",
       "<style scoped>\n",
       "    .dataframe tbody tr th:only-of-type {\n",
       "        vertical-align: middle;\n",
       "    }\n",
       "\n",
       "    .dataframe tbody tr th {\n",
       "        vertical-align: top;\n",
       "    }\n",
       "\n",
       "    .dataframe thead th {\n",
       "        text-align: right;\n",
       "    }\n",
       "</style>\n",
       "<table border=\"1\" class=\"dataframe\">\n",
       "  <thead>\n",
       "    <tr style=\"text-align: right;\">\n",
       "      <th></th>\n",
       "      <th>Department</th>\n",
       "      <th>Age</th>\n",
       "      <th>Severity of Illness</th>\n",
       "      <th>health_conditions</th>\n",
       "      <th>pred</th>\n",
       "    </tr>\n",
       "  </thead>\n",
       "  <tbody>\n",
       "    <tr>\n",
       "      <th>0</th>\n",
       "      <td>1</td>\n",
       "      <td>3</td>\n",
       "      <td>3</td>\n",
       "      <td>4</td>\n",
       "      <td></td>\n",
       "    </tr>\n",
       "    <tr>\n",
       "      <th>1</th>\n",
       "      <td>3</td>\n",
       "      <td>6</td>\n",
       "      <td>3</td>\n",
       "      <td>5</td>\n",
       "      <td></td>\n",
       "    </tr>\n",
       "    <tr>\n",
       "      <th>2</th>\n",
       "      <td>4</td>\n",
       "      <td>6</td>\n",
       "      <td>3</td>\n",
       "      <td>3</td>\n",
       "      <td></td>\n",
       "    </tr>\n",
       "    <tr>\n",
       "      <th>3</th>\n",
       "      <td>1</td>\n",
       "      <td>3</td>\n",
       "      <td>3</td>\n",
       "      <td>3</td>\n",
       "      <td></td>\n",
       "    </tr>\n",
       "    <tr>\n",
       "      <th>4</th>\n",
       "      <td>2</td>\n",
       "      <td>6</td>\n",
       "      <td>1</td>\n",
       "      <td>1</td>\n",
       "      <td></td>\n",
       "    </tr>\n",
       "    <tr>\n",
       "      <th>...</th>\n",
       "      <td>...</td>\n",
       "      <td>...</td>\n",
       "      <td>...</td>\n",
       "      <td>...</td>\n",
       "      <td>...</td>\n",
       "    </tr>\n",
       "    <tr>\n",
       "      <th>89995</th>\n",
       "      <td>1</td>\n",
       "      <td>2</td>\n",
       "      <td>2</td>\n",
       "      <td>6</td>\n",
       "      <td></td>\n",
       "    </tr>\n",
       "    <tr>\n",
       "      <th>89996</th>\n",
       "      <td>1</td>\n",
       "      <td>4</td>\n",
       "      <td>3</td>\n",
       "      <td>4</td>\n",
       "      <td></td>\n",
       "    </tr>\n",
       "    <tr>\n",
       "      <th>89997</th>\n",
       "      <td>1</td>\n",
       "      <td>2</td>\n",
       "      <td>3</td>\n",
       "      <td>6</td>\n",
       "      <td></td>\n",
       "    </tr>\n",
       "    <tr>\n",
       "      <th>89998</th>\n",
       "      <td>4</td>\n",
       "      <td>7</td>\n",
       "      <td>1</td>\n",
       "      <td>1</td>\n",
       "      <td></td>\n",
       "    </tr>\n",
       "    <tr>\n",
       "      <th>89999</th>\n",
       "      <td>1</td>\n",
       "      <td>5</td>\n",
       "      <td>3</td>\n",
       "      <td>2</td>\n",
       "      <td></td>\n",
       "    </tr>\n",
       "  </tbody>\n",
       "</table>\n",
       "<p>90000 rows × 5 columns</p>\n",
       "</div>"
      ],
      "text/plain": [
       "       Department  Age  Severity of Illness  health_conditions pred\n",
       "0               1    3                    3                  4     \n",
       "1               3    6                    3                  5     \n",
       "2               4    6                    3                  3     \n",
       "3               1    3                    3                  3     \n",
       "4               2    6                    1                  1     \n",
       "...           ...  ...                  ...                ...  ...\n",
       "89995           1    2                    2                  6     \n",
       "89996           1    4                    3                  4     \n",
       "89997           1    2                    3                  6     \n",
       "89998           4    7                    1                  1     \n",
       "89999           1    5                    3                  2     \n",
       "\n",
       "[90000 rows x 5 columns]"
      ]
     },
     "execution_count": 47,
     "metadata": {},
     "output_type": "execute_result"
    }
   ],
   "source": [
    "hospitalizaciones_test"
   ]
  },
  {
   "attachments": {},
   "cell_type": "markdown",
   "metadata": {},
   "source": [
    "Defino x e y"
   ]
  },
  {
   "cell_type": "code",
   "execution_count": 48,
   "metadata": {},
   "outputs": [],
   "source": [
    "X=hospitalizaciones_train.iloc[:,:4].values\n",
    "Y=hospitalizaciones_train.iloc[:,4].values # columna target "
   ]
  },
  {
   "attachments": {},
   "cell_type": "markdown",
   "metadata": {},
   "source": [
    "Hago la separacion de los datos "
   ]
  },
  {
   "cell_type": "code",
   "execution_count": 49,
   "metadata": {},
   "outputs": [],
   "source": [
    "X_Train, X_Test, Y_Train, Y_Test = train_test_split(X, Y, test_size = 0.20, random_state=20)"
   ]
  },
  {
   "attachments": {},
   "cell_type": "markdown",
   "metadata": {},
   "source": [
    "Escalamos los datos \n",
    "\n",
    "no debe ajustar ningún algoritmo de preprocesamiento (PCA, StandardScaler...) en todo el conjunto de datos, sino solo en el conjunto de entrenamiento"
   ]
  },
  {
   "cell_type": "code",
   "execution_count": 50,
   "metadata": {},
   "outputs": [],
   "source": [
    "sc_X = StandardScaler() # instanciamos \n",
    "X_Train = sc_X.fit_transform(X_Train)\n",
    "X_Test = sc_X.transform(X_Test)"
   ]
  },
  {
   "attachments": {},
   "cell_type": "markdown",
   "metadata": {},
   "source": [
    "En este momento tenemos los datos listos para construir el modelo LogisticRegression"
   ]
  },
  {
   "cell_type": "code",
   "execution_count": 51,
   "metadata": {},
   "outputs": [
    {
     "data": {
      "text/html": [
       "<style>#sk-container-id-1 {color: black;background-color: white;}#sk-container-id-1 pre{padding: 0;}#sk-container-id-1 div.sk-toggleable {background-color: white;}#sk-container-id-1 label.sk-toggleable__label {cursor: pointer;display: block;width: 100%;margin-bottom: 0;padding: 0.3em;box-sizing: border-box;text-align: center;}#sk-container-id-1 label.sk-toggleable__label-arrow:before {content: \"▸\";float: left;margin-right: 0.25em;color: #696969;}#sk-container-id-1 label.sk-toggleable__label-arrow:hover:before {color: black;}#sk-container-id-1 div.sk-estimator:hover label.sk-toggleable__label-arrow:before {color: black;}#sk-container-id-1 div.sk-toggleable__content {max-height: 0;max-width: 0;overflow: hidden;text-align: left;background-color: #f0f8ff;}#sk-container-id-1 div.sk-toggleable__content pre {margin: 0.2em;color: black;border-radius: 0.25em;background-color: #f0f8ff;}#sk-container-id-1 input.sk-toggleable__control:checked~div.sk-toggleable__content {max-height: 200px;max-width: 100%;overflow: auto;}#sk-container-id-1 input.sk-toggleable__control:checked~label.sk-toggleable__label-arrow:before {content: \"▾\";}#sk-container-id-1 div.sk-estimator input.sk-toggleable__control:checked~label.sk-toggleable__label {background-color: #d4ebff;}#sk-container-id-1 div.sk-label input.sk-toggleable__control:checked~label.sk-toggleable__label {background-color: #d4ebff;}#sk-container-id-1 input.sk-hidden--visually {border: 0;clip: rect(1px 1px 1px 1px);clip: rect(1px, 1px, 1px, 1px);height: 1px;margin: -1px;overflow: hidden;padding: 0;position: absolute;width: 1px;}#sk-container-id-1 div.sk-estimator {font-family: monospace;background-color: #f0f8ff;border: 1px dotted black;border-radius: 0.25em;box-sizing: border-box;margin-bottom: 0.5em;}#sk-container-id-1 div.sk-estimator:hover {background-color: #d4ebff;}#sk-container-id-1 div.sk-parallel-item::after {content: \"\";width: 100%;border-bottom: 1px solid gray;flex-grow: 1;}#sk-container-id-1 div.sk-label:hover label.sk-toggleable__label {background-color: #d4ebff;}#sk-container-id-1 div.sk-serial::before {content: \"\";position: absolute;border-left: 1px solid gray;box-sizing: border-box;top: 0;bottom: 0;left: 50%;z-index: 0;}#sk-container-id-1 div.sk-serial {display: flex;flex-direction: column;align-items: center;background-color: white;padding-right: 0.2em;padding-left: 0.2em;position: relative;}#sk-container-id-1 div.sk-item {position: relative;z-index: 1;}#sk-container-id-1 div.sk-parallel {display: flex;align-items: stretch;justify-content: center;background-color: white;position: relative;}#sk-container-id-1 div.sk-item::before, #sk-container-id-1 div.sk-parallel-item::before {content: \"\";position: absolute;border-left: 1px solid gray;box-sizing: border-box;top: 0;bottom: 0;left: 50%;z-index: -1;}#sk-container-id-1 div.sk-parallel-item {display: flex;flex-direction: column;z-index: 1;position: relative;background-color: white;}#sk-container-id-1 div.sk-parallel-item:first-child::after {align-self: flex-end;width: 50%;}#sk-container-id-1 div.sk-parallel-item:last-child::after {align-self: flex-start;width: 50%;}#sk-container-id-1 div.sk-parallel-item:only-child::after {width: 0;}#sk-container-id-1 div.sk-dashed-wrapped {border: 1px dashed gray;margin: 0 0.4em 0.5em 0.4em;box-sizing: border-box;padding-bottom: 0.4em;background-color: white;}#sk-container-id-1 div.sk-label label {font-family: monospace;font-weight: bold;display: inline-block;line-height: 1.2em;}#sk-container-id-1 div.sk-label-container {text-align: center;}#sk-container-id-1 div.sk-container {/* jupyter's `normalize.less` sets `[hidden] { display: none; }` but bootstrap.min.css set `[hidden] { display: none !important; }` so we also need the `!important` here to be able to override the default hidden behavior on the sphinx rendered scikit-learn.org. See: https://github.com/scikit-learn/scikit-learn/issues/21755 */display: inline-block !important;position: relative;}#sk-container-id-1 div.sk-text-repr-fallback {display: none;}</style><div id=\"sk-container-id-1\" class=\"sk-top-container\"><div class=\"sk-text-repr-fallback\"><pre>LogisticRegression()</pre><b>In a Jupyter environment, please rerun this cell to show the HTML representation or trust the notebook. <br />On GitHub, the HTML representation is unable to render, please try loading this page with nbviewer.org.</b></div><div class=\"sk-container\" hidden><div class=\"sk-item\"><div class=\"sk-estimator sk-toggleable\"><input class=\"sk-toggleable__control sk-hidden--visually\" id=\"sk-estimator-id-1\" type=\"checkbox\" checked><label for=\"sk-estimator-id-1\" class=\"sk-toggleable__label sk-toggleable__label-arrow\">LogisticRegression</label><div class=\"sk-toggleable__content\"><pre>LogisticRegression()</pre></div></div></div></div></div>"
      ],
      "text/plain": [
       "LogisticRegression()"
      ]
     },
     "execution_count": 51,
     "metadata": {},
     "output_type": "execute_result"
    }
   ],
   "source": [
    "modelo=LogisticRegression()# instanciamos el modelo \n",
    "modelo.fit(X_Train,Y_Train)"
   ]
  },
  {
   "attachments": {},
   "cell_type": "markdown",
   "metadata": {},
   "source": [
    "Realizo una prediccion "
   ]
  },
  {
   "cell_type": "code",
   "execution_count": 52,
   "metadata": {},
   "outputs": [],
   "source": [
    "y_pred=modelo.predict(X_Test)"
   ]
  },
  {
   "attachments": {},
   "cell_type": "markdown",
   "metadata": {},
   "source": [
    "Calculamos las metricas para verificar el rendimiento del  modelo"
   ]
  },
  {
   "attachments": {},
   "cell_type": "markdown",
   "metadata": {},
   "source": [
    "Matriz de confusión"
   ]
  },
  {
   "cell_type": "code",
   "execution_count": 53,
   "metadata": {},
   "outputs": [
    {
     "data": {
      "text/plain": [
       "array([[ 3120, 27623],\n",
       "       [ 4677, 46580]], dtype=int64)"
      ]
     },
     "execution_count": 53,
     "metadata": {},
     "output_type": "execute_result"
    }
   ],
   "source": [
    "matriz=confusion_matrix(Y_Test,y_pred)\n",
    "matriz\n",
    "'''\n",
    "vp:3120\n",
    "fp:27623\n",
    "fn:4677\n",
    "vp:46580\n",
    "'''\n",
    "matriz"
   ]
  },
  {
   "attachments": {},
   "cell_type": "markdown",
   "metadata": {},
   "source": [
    "Precisión\n",
    "verdaderos positivos sobre los verdaderos positivos + los falsos positivos."
   ]
  },
  {
   "cell_type": "code",
   "execution_count": 54,
   "metadata": {},
   "outputs": [
    {
     "data": {
      "text/plain": [
       "0.6277374230152419"
      ]
     },
     "execution_count": 54,
     "metadata": {},
     "output_type": "execute_result"
    }
   ],
   "source": [
    "precision=precision_score(Y_Test,y_pred)\n",
    "precision"
   ]
  },
  {
   "attachments": {},
   "cell_type": "markdown",
   "metadata": {},
   "source": [
    "Exatitud\n",
    "La exactitud del modelo es básicamente el número total de predicciones correctas dividido por el número total de predicciones."
   ]
  },
  {
   "cell_type": "code",
   "execution_count": 55,
   "metadata": {},
   "outputs": [
    {
     "data": {
      "text/plain": [
       "0.6060975609756097"
      ]
     },
     "execution_count": 55,
     "metadata": {},
     "output_type": "execute_result"
    }
   ],
   "source": [
    "exatitud=accuracy_score(Y_Test,y_pred)\n",
    "exatitud"
   ]
  },
  {
   "attachments": {},
   "cell_type": "markdown",
   "metadata": {},
   "source": [
    "Recall o exhaustividad\n",
    "verdaderos positivos sobre los verdaderos positivos + falsos negativos."
   ]
  },
  {
   "cell_type": "code",
   "execution_count": 56,
   "metadata": {},
   "outputs": [
    {
     "data": {
      "text/plain": [
       "0.9087539262929941"
      ]
     },
     "execution_count": 56,
     "metadata": {},
     "output_type": "execute_result"
    }
   ],
   "source": [
    "sensibilidad=recall_score(Y_Test,y_pred)\n",
    "sensibilidad"
   ]
  },
  {
   "attachments": {},
   "cell_type": "markdown",
   "metadata": {},
   "source": [
    "F1 Combinación entre la precision y la sensibilidad"
   ]
  },
  {
   "cell_type": "code",
   "execution_count": 57,
   "metadata": {},
   "outputs": [
    {
     "data": {
      "text/plain": [
       "0.7425474254742547"
      ]
     },
     "execution_count": 57,
     "metadata": {},
     "output_type": "execute_result"
    }
   ],
   "source": [
    "puntajef1=f1_score(Y_Test,y_pred)\n",
    "puntajef1"
   ]
  },
  {
   "attachments": {},
   "cell_type": "markdown",
   "metadata": {},
   "source": [
    "Curva ROC \n",
    "Esta métrica nos indica cuán bien puede distinguir el modelo entre dos clases.\n",
    "\n",
    "Un modelo excelente tendrá un AUC = 1.\n",
    "\n",
    "El el azar tendrá un AUC = 0.5\n",
    "\n",
    "Con un AUC = 0 tendremos un modelo que clasifica todas las etiquetas al revés"
   ]
  },
  {
   "cell_type": "code",
   "execution_count": 58,
   "metadata": {},
   "outputs": [
    {
     "data": {
      "text/plain": [
       "0.5051202217744775"
      ]
     },
     "execution_count": 58,
     "metadata": {},
     "output_type": "execute_result"
    }
   ],
   "source": [
    "roc_auc=roc_auc_score(Y_Test,y_pred)\n",
    "roc_auc"
   ]
  },
  {
   "attachments": {},
   "cell_type": "markdown",
   "metadata": {},
   "source": [
    "* alta exhaustividad + alta precisión: el modelo maneja perfectamente la clase\t\n",
    "* baja exhaustividad + alta precisión: el modelo no puede detectar bien la clase pero es muy \tconfiable cuando lo hace\n",
    "* alta exhaustividad + baja precisión: la clase está bien detectada pero el modelo también incluye \tpuntos de otras clases\n",
    "* baja exhaustividad + baja precisión: el modelo maneja mal la clase"
   ]
  },
  {
   "attachments": {},
   "cell_type": "markdown",
   "metadata": {},
   "source": [
    "Con todos los analisis que realize llegue a la conclucion de que mi modelo actual tiene que mejorar \n",
    "la clase está bien detectada pero el modelo también incluye puntos de otras clases"
   ]
  },
  {
   "attachments": {},
   "cell_type": "markdown",
   "metadata": {},
   "source": [
    "_______________________________________________________________________________"
   ]
  }
 ],
 "metadata": {
  "kernelspec": {
   "display_name": "Python 3",
   "language": "python",
   "name": "python3"
  },
  "language_info": {
   "codemirror_mode": {
    "name": "ipython",
    "version": 3
   },
   "file_extension": ".py",
   "mimetype": "text/x-python",
   "name": "python",
   "nbconvert_exporter": "python",
   "pygments_lexer": "ipython3",
   "version": "3.10.5"
  },
  "orig_nbformat": 4,
  "vscode": {
   "interpreter": {
    "hash": "218ff13795655ce892829a4be37c87f0961fa750ebe1cb9250c6d4438d88e968"
   }
  }
 },
 "nbformat": 4,
 "nbformat_minor": 2
}
